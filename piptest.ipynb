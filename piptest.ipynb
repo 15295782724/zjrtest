{
 "cells": [
  {
   "cell_type": "code",
   "execution_count": 1,
   "id": "e193c649-244f-4a11-92cb-55c20242e12a",
   "metadata": {},
   "outputs": [
    {
     "data": {
      "text/plain": [
       "'/home/jovyan/hive-resultset'"
      ]
     },
     "execution_count": 1,
     "metadata": {},
     "output_type": "execute_result"
    }
   ],
   "source": [
    "!pip install eap-notebook"
   ]
  },
  {
   "cell_type": "code",
   "execution_count": null,
   "id": "96ac2ba2-cfa1-4cdb-bcef-923822cdcb7f",
   "metadata": {},
   "outputs": [],
   "source": [
    "\"\"\"\n",
    "Prerequisite: pip install eap-notebook\n",
    "\"\"\"\n",
    "            \n",
    "from eap.notebook import Client\n",
    "\"\"\"\n",
    ":param local_path: The local path to store the output result.\n",
    ":type name: str\n",
    "\"\"\"\n",
    "Client().download_minio_file('minio://mlpipeline/artifacts/20211230165116643-v2mrp/20211230165116643-v2mrp-1163123700/latest-model-version-latest_version.tgz',local_path=None)\n",
    "            "
   ]
  }
 ],
 "metadata": {
  "kernelspec": {
   "display_name": "Python 3 (ipykernel)",
   "language": "python",
   "name": "python3"
  },
  "language_info": {
   "codemirror_mode": {
    "name": "ipython",
    "version": 3
   },
   "file_extension": ".py",
   "mimetype": "text/x-python",
   "name": "python",
   "nbconvert_exporter": "python",
   "pygments_lexer": "ipython3",
   "version": "3.8.10"
  }
 },
 "nbformat": 4,
 "nbformat_minor": 5
}
