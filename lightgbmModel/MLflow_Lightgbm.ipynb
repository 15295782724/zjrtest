{
 "cells": [
  {
   "cell_type": "code",
   "execution_count": 3,
   "metadata": {},
   "outputs": [
    {
     "name": "stdout",
     "output_type": "stream",
     "text": [
      "Looking in indexes: https://mirrors.aliyun.com/pypi/simple/\n",
      "Collecting boto3\n",
      "  Downloading https://mirrors.aliyun.com/pypi/packages/3c/81/83c5faa82ba2828396d690d9fa9379da0caa3aa786c8d42a8090715c6731/boto3-1.14.44-py2.py3-none-any.whl (129 kB)\n",
      "\u001b[K     |████████████████████████████████| 129 kB 28.5 MB/s eta 0:00:01\n",
      "\u001b[?25hCollecting jmespath<1.0.0,>=0.7.1\n",
      "  Downloading https://mirrors.aliyun.com/pypi/packages/07/cb/5f001272b6faeb23c1c9e0acc04d48eaaf5c862c17709d20e3469c6e0139/jmespath-0.10.0-py2.py3-none-any.whl (24 kB)\n",
      "Collecting s3transfer<0.4.0,>=0.3.0\n",
      "  Downloading https://mirrors.aliyun.com/pypi/packages/69/79/e6afb3d8b0b4e96cefbdc690f741d7dd24547ff1f94240c997a26fa908d3/s3transfer-0.3.3-py2.py3-none-any.whl (69 kB)\n",
      "\u001b[K     |████████████████████████████████| 69 kB 517 kB/s  eta 0:00:01\n",
      "\u001b[?25hCollecting botocore<1.18.0,>=1.17.44\n",
      "  Downloading https://mirrors.aliyun.com/pypi/packages/1e/6a/b6490235c01c941a24a86235e2a641e9505cf0ce4b4968d4987573d92bec/botocore-1.17.44-py2.py3-none-any.whl (6.5 MB)\n",
      "\u001b[K     |████████████████████████████████| 6.5 MB 26.6 MB/s eta 0:00:01\n",
      "\u001b[?25hRequirement already satisfied: python-dateutil<3.0.0,>=2.1 in /opt/conda/lib/python3.7/site-packages (from botocore<1.18.0,>=1.17.44->boto3) (2.8.1)\n",
      "Collecting docutils<0.16,>=0.10\n",
      "  Downloading https://mirrors.aliyun.com/pypi/packages/22/cd/a6aa959dca619918ccb55023b4cb151949c64d4d5d55b3f4ffd7eee0c6e8/docutils-0.15.2-py3-none-any.whl (547 kB)\n",
      "\u001b[K     |████████████████████████████████| 547 kB 47 kB/s s eta 0:00:01\n",
      "\u001b[?25hRequirement already satisfied: urllib3<1.26,>=1.20; python_version != \"3.4\" in /opt/conda/lib/python3.7/site-packages (from botocore<1.18.0,>=1.17.44->boto3) (1.25.9)\n",
      "Requirement already satisfied: six>=1.5 in /opt/conda/lib/python3.7/site-packages (from python-dateutil<3.0.0,>=2.1->botocore<1.18.0,>=1.17.44->boto3) (1.14.0)\n",
      "Installing collected packages: jmespath, docutils, botocore, s3transfer, boto3\n",
      "Successfully installed boto3-1.14.44 botocore-1.17.44 docutils-0.15.2 jmespath-0.10.0 s3transfer-0.3.3\n",
      "Note: you may need to restart the kernel to use updated packages.\n"
     ]
    }
   ],
   "source": [
    "%pip install boto3"
   ]
  },
  {
   "cell_type": "code",
   "execution_count": 1,
   "metadata": {},
   "outputs": [],
   "source": [
    "from sklearn import datasets\n",
    "from sklearn.model_selection import train_test_split\n",
    "from sklearn.metrics import accuracy_score, log_loss\n",
    "import lightgbm as lgb\n",
    "import matplotlib as mpl\n",
    "\n",
    "import mlflow\n",
    "import mlflow.lightgbm\n",
    "import mlflow.sklearn"
   ]
  },
  {
   "cell_type": "code",
   "execution_count": 2,
   "metadata": {},
   "outputs": [
    {
     "name": "stderr",
     "output_type": "stream",
     "text": [
      "/opt/conda/lib/python3.7/site-packages/mlflow/utils/autologging_utils.py:60: DeprecationWarning: inspect.getargspec() is deprecated since Python 3.0, use inspect.signature() or inspect.getfullargspec()\n",
      "  all_param_names, _, _, all_default_values = inspect.getargspec(fn)  # pylint: disable=W1505\n",
      "/opt/conda/lib/python3.7/site-packages/mlflow/lightgbm.py:285: DeprecationWarning: inspect.getargspec() is deprecated since Python 3.0, use inspect.signature() or inspect.getfullargspec()\n",
      "  all_arg_names = inspect.getargspec(original)[0]  # pylint: disable=W1505\n"
     ]
    },
    {
     "name": "stdout",
     "output_type": "stream",
     "text": [
      "[1]\ttrain's multi_logloss: 0.669599\n",
      "[2]\ttrain's multi_logloss: 0.460717\n",
      "[3]\ttrain's multi_logloss: 0.333111\n",
      "[4]\ttrain's multi_logloss: 0.258027\n",
      "[5]\ttrain's multi_logloss: 0.202322\n",
      "[6]\ttrain's multi_logloss: 0.1656\n",
      "[7]\ttrain's multi_logloss: 0.140064\n",
      "[8]\ttrain's multi_logloss: 0.120381\n",
      "[9]\ttrain's multi_logloss: 0.103389\n",
      "[10]\ttrain's multi_logloss: 0.0919157\n"
     ]
    },
    {
     "name": "stderr",
     "output_type": "stream",
     "text": [
      "/opt/conda/lib/python3.7/site-packages/mlflow/lightgbm.py:262: UserWarning: Logging to MLflow failed: No module named 'boto3'\n",
      "  try_mlflow_log(mlflow.log_artifact, filepath)\n",
      "/opt/conda/lib/python3.7/site-packages/mlflow/lightgbm.py:338: UserWarning: Logging to MLflow failed: No module named 'boto3'\n",
      "  try_mlflow_log(mlflow.log_artifact, filepath)\n",
      "/opt/conda/lib/python3.7/site-packages/mlflow/lightgbm.py:342: UserWarning: Logging to MLflow failed: No module named 'boto3'\n",
      "  try_mlflow_log(log_model, model, artifact_path='model')\n"
     ]
    },
    {
     "ename": "TypeError",
     "evalue": "log_model() missing 1 required positional argument: 'artifact_path'",
     "output_type": "error",
     "traceback": [
      "\u001b[0;31m---------------------------------------------------------------------------\u001b[0m",
      "\u001b[0;31mTypeError\u001b[0m                                 Traceback (most recent call last)",
      "\u001b[0;32m<ipython-input-2-c4be9b16f27a>\u001b[0m in \u001b[0;36m<module>\u001b[0;34m\u001b[0m\n\u001b[1;32m     36\u001b[0m     \u001b[0;31m# log metrics\u001b[0m\u001b[0;34m\u001b[0m\u001b[0;34m\u001b[0m\u001b[0;34m\u001b[0m\u001b[0m\n\u001b[1;32m     37\u001b[0m     \u001b[0mmlflow\u001b[0m\u001b[0;34m.\u001b[0m\u001b[0mlog_metrics\u001b[0m\u001b[0;34m(\u001b[0m\u001b[0;34m{\u001b[0m\u001b[0;34m\"log_loss\"\u001b[0m\u001b[0;34m:\u001b[0m \u001b[0mloss\u001b[0m\u001b[0;34m,\u001b[0m \u001b[0;34m\"accuracy\"\u001b[0m\u001b[0;34m:\u001b[0m \u001b[0macc\u001b[0m\u001b[0;34m}\u001b[0m\u001b[0;34m)\u001b[0m\u001b[0;34m\u001b[0m\u001b[0;34m\u001b[0m\u001b[0m\n\u001b[0;32m---> 38\u001b[0;31m     \u001b[0mmlflow\u001b[0m\u001b[0;34m.\u001b[0m\u001b[0mlightgbm\u001b[0m\u001b[0;34m.\u001b[0m\u001b[0mlog_model\u001b[0m\u001b[0;34m(\u001b[0m\u001b[0mmodel\u001b[0m\u001b[0;34m,\u001b[0m\u001b[0;34m)\u001b[0m\u001b[0;34m\u001b[0m\u001b[0;34m\u001b[0m\u001b[0m\n\u001b[0m",
      "\u001b[0;31mTypeError\u001b[0m: log_model() missing 1 required positional argument: 'artifact_path'"
     ]
    }
   ],
   "source": [
    "learning_rate=0.4\n",
    "colsample_bytree = 0.7 \n",
    "subsample = 0.8\n",
    "# prepare train and test data\n",
    "iris = datasets.load_iris()\n",
    "X = iris.data\n",
    "y = iris.target\n",
    "X_train, X_test, y_train, y_test = train_test_split(X, y, test_size=0.2, random_state=42)\n",
    "train_set = lgb.Dataset(X_train, label=y_train)\n",
    "\n",
    "# enable auto logging\n",
    "mlflow.lightgbm.autolog()\n",
    "\n",
    "with mlflow.start_run():\n",
    "\n",
    "    # train model\n",
    "    params = {\n",
    "        \"objective\": \"multiclass\",\n",
    "        \"num_class\": 3,\n",
    "        \"learning_rate\": learning_rate,\n",
    "        \"metric\": \"multi_logloss\",\n",
    "        \"colsample_bytree\": colsample_bytree,\n",
    "        \"subsample\": subsample,\n",
    "        \"seed\": 42,\n",
    "    }\n",
    "    model = lgb.train(\n",
    "        params, train_set, num_boost_round=10, valid_sets=[train_set], valid_names=[\"train\"]\n",
    "    )\n",
    "\n",
    "    # evaluate model\n",
    "    y_proba = model.predict(X_test)\n",
    "    y_pred = y_proba.argmax(axis=1)\n",
    "    loss = log_loss(y_test, y_proba)\n",
    "    acc = accuracy_score(y_test, y_pred)\n",
    "\n",
    "    # log metrics\n",
    "    mlflow.log_metrics({\"log_loss\": loss, \"accuracy\": acc})\n",
    "    mlflow.lightgbm.log_model(model,\"model\")"
   ]
  }
 ],
 "metadata": {
  "kernelspec": {
   "display_name": "Python 3",
   "language": "python",
   "name": "python3"
  },
  "language_info": {
   "codemirror_mode": {
    "name": "ipython",
    "version": 3
   },
   "file_extension": ".py",
   "mimetype": "text/x-python",
   "name": "python",
   "nbconvert_exporter": "python",
   "pygments_lexer": "ipython3",
   "version": "3.7.6"
  }
 },
 "nbformat": 4,
 "nbformat_minor": 4
}
